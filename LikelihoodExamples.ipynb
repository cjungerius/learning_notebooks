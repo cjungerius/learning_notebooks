{
  "nbformat": 4,
  "nbformat_minor": 0,
  "metadata": {
    "kernelspec": {
      "display_name": "Python 3",
      "language": "python",
      "name": "python3"
    },
    "language_info": {
      "codemirror_mode": {
        "name": "ipython",
        "version": 3
      },
      "file_extension": ".py",
      "mimetype": "text/x-python",
      "name": "python",
      "nbconvert_exporter": "python",
      "pygments_lexer": "ipython3",
      "version": "3.7.6"
    },
    "colab": {
      "name": "LikelihoodExamples.ipynb",
      "provenance": [],
      "include_colab_link": true
    }
  },
  "cells": [
    {
      "cell_type": "markdown",
      "metadata": {
        "id": "view-in-github",
        "colab_type": "text"
      },
      "source": [
        "<a href=\"https://colab.research.google.com/github/cjungerius/learning_notebooks/blob/master/LikelihoodExamples.ipynb\" target=\"_parent\"><img src=\"https://colab.research.google.com/assets/colab-badge.svg\" alt=\"Open In Colab\"/></a>"
      ]
    },
    {
      "cell_type": "markdown",
      "metadata": {
        "id": "WKbrPOOXiUb3",
        "colab_type": "text"
      },
      "source": [
        "import your packages (make sure they're all installed ofc :) )"
      ]
    },
    {
      "cell_type": "code",
      "metadata": {
        "id": "o81rfFKLiUb4",
        "colab_type": "code",
        "colab": {
          "base_uri": "https://localhost:8080/",
          "height": 34
        },
        "outputId": "e1ce9bdb-c6ca-4392-fd84-bd496e738c4d"
      },
      "source": [
        "!pip install numdifftools #remove if already installed\n",
        "import numpy as np\n",
        "from scipy.optimize import minimize\n",
        "from matplotlib import pyplot as plt\n",
        "import scipy.stats as stats\n",
        "import numdifftools as ndt\n",
        "import statsmodels.api as sm\n",
        "from statsmodels.base.model import GenericLikelihoodModel\n",
        "%matplotlib inline"
      ],
      "execution_count": 114,
      "outputs": [
        {
          "output_type": "stream",
          "text": [
            "Requirement already satisfied: numdifftools in /usr/local/lib/python3.6/dist-packages (0.9.39)\n"
          ],
          "name": "stdout"
        }
      ]
    },
    {
      "cell_type": "markdown",
      "metadata": {
        "id": "yjYS1ExmiUb8",
        "colab_type": "text"
      },
      "source": [
        "provide your data (I'm just generating some for X and Y here, you can just say `X=[...] ` and `Y = [...]` )"
      ]
    },
    {
      "cell_type": "code",
      "metadata": {
        "id": "FGnOd9RyiUb8",
        "colab_type": "code",
        "colab": {}
      },
      "source": [
        "N = 100\n",
        "x = np.linspace(0,20,N)\n",
        "ϵ = np.random.normal(loc = 0.0, scale = 5.0, size = N)\n",
        "y = 3*x + ϵ"
      ],
      "execution_count": 115,
      "outputs": []
    },
    {
      "cell_type": "markdown",
      "metadata": {
        "id": "akoNCvmliUcA",
        "colab_type": "text"
      },
      "source": [
        "Wow, a linear thing!"
      ]
    },
    {
      "cell_type": "code",
      "metadata": {
        "id": "r1x2-QdAiUcA",
        "colab_type": "code",
        "colab": {
          "base_uri": "https://localhost:8080/",
          "height": 282
        },
        "outputId": "b800eed9-90d9-4da7-e389-2e8007ae7aba"
      },
      "source": [
        "plt.scatter(x,y)"
      ],
      "execution_count": 116,
      "outputs": [
        {
          "output_type": "execute_result",
          "data": {
            "text/plain": [
              "<matplotlib.collections.PathCollection at 0x7f55de0ffeb8>"
            ]
          },
          "metadata": {
            "tags": []
          },
          "execution_count": 116
        },
        {
          "output_type": "display_data",
          "data": {
            "image/png": "[encoded data removed]",
            "text/plain": [
              "<Figure size 432x288 with 1 Axes>"
            ]
          },
          "metadata": {
            "tags": [],
            "needs_background": "light"
          }
        }
      ]
    },
    {
      "cell_type": "markdown",
      "metadata": {
        "id": "NF3xjfR8iUcE",
        "colab_type": "text"
      },
      "source": [
        "Provide a function to optimize (This can be anything, but I'm fitting a linear one here)"
      ]
    },
    {
      "cell_type": "code",
      "metadata": {
        "id": "4uCOouQjiUcE",
        "colab_type": "code",
        "colab": {}
      },
      "source": [
        "def MLELinearModel(params):\n",
        "    #load in params\n",
        "    intercept, beta, sd = params[0], params[1], params[2]\n",
        "    #what does our function look like?\n",
        "    yhat = intercept + beta*x\n",
        "    #and *what is the LL?*\n",
        "    negLL = -np.sum(stats.norm.logpdf(y, loc=yhat,scale=sd))\n",
        "    #aaaaand return that\n",
        "    return negLL"
      ],
      "execution_count": 117,
      "outputs": []
    },
    {
      "cell_type": "markdown",
      "metadata": {
        "id": "LhVR_IKciUcH",
        "colab_type": "text"
      },
      "source": [
        "And now we just tell python to optimize this function! (i.e. minimize the neg log likelihood, which is equivalent to maximizing likelihood!)"
      ]
    },
    {
      "cell_type": "code",
      "metadata": {
        "id": "H8FN6aA4iUcH",
        "colab_type": "code",
        "colab": {}
      },
      "source": [
        "#some starting params\n",
        "guess = np.array([1,2,3])\n",
        "results = minimize(MLELinearModel, guess, method = 'Nelder-Mead')\n",
        "options = {'disp':True}"
      ],
      "execution_count": 118,
      "outputs": []
    },
    {
      "cell_type": "code",
      "metadata": {
        "id": "-ycAkzA6iUcK",
        "colab_type": "code",
        "colab": {
          "base_uri": "https://localhost:8080/",
          "height": 204
        },
        "outputId": "65f16239-a27c-4a63-e91f-e0cc42a19735"
      },
      "source": [
        "results"
      ],
      "execution_count": 119,
      "outputs": [
        {
          "output_type": "execute_result",
          "data": {
            "text/plain": [
              " final_simplex: (array([[-0.65347075,  3.05965167,  4.5881496 ],\n",
              "       [-0.65337116,  3.05964347,  4.58815962],\n",
              "       [-0.65346414,  3.05964631,  4.58813682],\n",
              "       [-0.65338663,  3.05964889,  4.58812416]]), array([294.24130058, 294.24130058, 294.24130058, 294.24130058]))\n",
              "           fun: 294.2413005780657\n",
              "       message: 'Optimization terminated successfully.'\n",
              "          nfev: 168\n",
              "           nit: 91\n",
              "        status: 0\n",
              "       success: True\n",
              "             x: array([-0.65347075,  3.05965167,  4.5881496 ])"
            ]
          },
          "metadata": {
            "tags": []
          },
          "execution_count": 119
        }
      ]
    },
    {
      "cell_type": "markdown",
      "metadata": {
        "id": "vBQhqsx2iUcM",
        "colab_type": "text"
      },
      "source": [
        "How does this look compared to our data?"
      ]
    },
    {
      "cell_type": "code",
      "metadata": {
        "id": "a-weeWNyiUcN",
        "colab_type": "code",
        "colab": {
          "base_uri": "https://localhost:8080/",
          "height": 282
        },
        "outputId": "b54e784f-2cdd-4837-eefc-46b00f1dbe2f"
      },
      "source": [
        "yhat = results.x[0]+results.x[1]*x\n",
        "plt.plot(x,yhat)\n",
        "plt.scatter(x,y)"
      ],
      "execution_count": 120,
      "outputs": [
        {
          "output_type": "execute_result",
          "data": {
            "text/plain": [
              "<matplotlib.collections.PathCollection at 0x7f55de0c3a58>"
            ]
          },
          "metadata": {
            "tags": []
          },
          "execution_count": 120
        },
        {
          "output_type": "display_data",
          "data": {
            "image/png": "[encoded data removed]",
            "text/plain": [
              "<Figure size 432x288 with 1 Axes>"
            ]
          },
          "metadata": {
            "tags": [],
            "needs_background": "light"
          }
        }
      ]
    },
    {
      "cell_type": "markdown",
      "metadata": {
        "id": "1yK748Asinek",
        "colab_type": "text"
      },
      "source": [
        "(note that since our noise is gaussian this is equivalent to OLS:"
      ]
    },
    {
      "cell_type": "code",
      "metadata": {
        "id": "1ZJbT3eginDu",
        "colab_type": "code",
        "colab": {
          "base_uri": "https://localhost:8080/",
          "height": 316
        },
        "outputId": "4a274094-4e0b-4baf-c4b4-822e99c1e4b4"
      },
      "source": [
        "X = np.array(x) # note capital to denote design matrix\n",
        "X = np.column_stack((np.ones_like(X), X))\n",
        "y = np.array(y[:,np.newaxis])\n",
        "theta = np.linalg.inv(X.T @ X) @ X.T @ y\n",
        "print(theta) # exactly equal to the intercept and slope found by likelihood estimation\n",
        "yhat = X@theta\n",
        "plt.plot(x,yhat)\n",
        "plt.scatter(x,y)"
      ],
      "execution_count": 121,
      "outputs": [
        {
          "output_type": "stream",
          "text": [
            "[[-0.65342902]\n",
            " [ 3.05964798]]\n"
          ],
          "name": "stdout"
        },
        {
          "output_type": "execute_result",
          "data": {
            "text/plain": [
              "<matplotlib.collections.PathCollection at 0x7f55de019160>"
            ]
          },
          "metadata": {
            "tags": []
          },
          "execution_count": 121
        },
        {
          "output_type": "display_data",
          "data": {
            "image/png": "[encoded data removed]",
            "text/plain": [
              "<Figure size 432x288 with 1 Axes>"
            ]
          },
          "metadata": {
            "tags": [],
            "needs_background": "light"
          }
        }
      ]
    },
    {
      "cell_type": "markdown",
      "metadata": {
        "id": "18aIogZ7iUcP",
        "colab_type": "text"
      },
      "source": [
        "We can also do this for other functions ofc:"
      ]
    },
    {
      "cell_type": "code",
      "metadata": {
        "id": "tSNpDPOhiUcQ",
        "colab_type": "code",
        "colab": {
          "base_uri": "https://localhost:8080/",
          "height": 323
        },
        "outputId": "0c479eac-a2eb-4553-c034-1f71a7393870"
      },
      "source": [
        "def MLEQuadraticModel(params):\n",
        "    intercept, beta1, beta2, sd = params[0], params[1], params[2], params[3]\n",
        "    yhat = intercept + beta1*x + beta2*x**2\n",
        "    negLL = -np.sum(stats.norm.logpdf(y[:,0], loc=yhat,scale=sd))\n",
        "    return negLL\n",
        "guess = np.array([1,2,3,4])\n",
        "results2 = minimize(MLEQuadraticModel, guess, method = 'Nelder-Mead')\n",
        "options = {'disp':True}\n",
        "\n",
        "print(results2)"
      ],
      "execution_count": 129,
      "outputs": [
        {
          "output_type": "stream",
          "text": [
            " final_simplex: (array([[-9.05693624e-01,  3.13610004e+00, -3.82264773e-03,\n",
            "         4.58665359e+00],\n",
            "       [-9.05782637e-01,  3.13612182e+00, -3.82373296e-03,\n",
            "         4.58665462e+00],\n",
            "       [-9.05710386e-01,  3.13611075e+00, -3.82328503e-03,\n",
            "         4.58664792e+00],\n",
            "       [-9.05763198e-01,  3.13611689e+00, -3.82358002e-03,\n",
            "         4.58665020e+00],\n",
            "       [-9.05638865e-01,  3.13608823e+00, -3.82218900e-03,\n",
            "         4.58665605e+00]]), array([294.20917897, 294.20917897, 294.20917897, 294.20917897,\n",
            "       294.20917897]))\n",
            "           fun: 294.2091789672212\n",
            "       message: 'Optimization terminated successfully.'\n",
            "          nfev: 590\n",
            "           nit: 345\n",
            "        status: 0\n",
            "       success: True\n",
            "             x: array([-9.05693624e-01,  3.13610004e+00, -3.82264773e-03,  4.58665359e+00])\n"
          ],
          "name": "stdout"
        }
      ]
    },
    {
      "cell_type": "code",
      "metadata": {
        "id": "AZUo3OtdiUcS",
        "colab_type": "code",
        "colab": {
          "base_uri": "https://localhost:8080/",
          "height": 282
        },
        "outputId": "8f01a2e9-d328-4151-e23a-954fa0123177"
      },
      "source": [
        "yhat2 = results2.x[0]+results2.x[1]*x + results2.x[2]*x**2\n",
        "plt.plot(x,yhat2)\n",
        "plt.scatter(x,y)"
      ],
      "execution_count": 132,
      "outputs": [
        {
          "output_type": "execute_result",
          "data": {
            "text/plain": [
              "<matplotlib.collections.PathCollection at 0x7f55dde15908>"
            ]
          },
          "metadata": {
            "tags": []
          },
          "execution_count": 132
        },
        {
          "output_type": "display_data",
          "data": {
            "image/png": "[encoded data removed]",
            "text/plain": [
              "<Figure size 432x288 with 1 Axes>"
            ]
          },
          "metadata": {
            "tags": [],
            "needs_background": "light"
          }
        }
      ]
    },
    {
      "cell_type": "code",
      "metadata": {
        "id": "P5Vn2-Pal3jB",
        "colab_type": "code",
        "colab": {
          "base_uri": "https://localhost:8080/",
          "height": 333
        },
        "outputId": "27e2fd2d-b49a-4e3f-b7da-6e66bc030cc5"
      },
      "source": [
        "X = np.array(x)\n",
        "X = np.column_stack((np.ones_like(X), X, X**2))\n",
        "theta = np.linalg.inv(X.T@X) @ X.T @ y\n",
        "print(theta) #again, equivalent to the MLL!\n",
        "y_hat = X @ theta\n",
        "plt.plot(x,y_hat)\n",
        "plt.scatter(x,y)"
      ],
      "execution_count": 135,
      "outputs": [
        {
          "output_type": "stream",
          "text": [
            "[[-0.90573952]\n",
            " [ 3.13611351]\n",
            " [-0.00382328]]\n"
          ],
          "name": "stdout"
        },
        {
          "output_type": "execute_result",
          "data": {
            "text/plain": [
              "<matplotlib.collections.PathCollection at 0x7f55ddd8f2b0>"
            ]
          },
          "metadata": {
            "tags": []
          },
          "execution_count": 135
        },
        {
          "output_type": "display_data",
          "data": {
            "image/png": "[encoded data removed]",
            "text/plain": [
              "<Figure size 432x288 with 1 Axes>"
            ]
          },
          "metadata": {
            "tags": [],
            "needs_background": "light"
          }
        }
      ]
    },
    {
      "cell_type": "markdown",
      "metadata": {
        "id": "ePn90_XPiUcT",
        "colab_type": "text"
      },
      "source": [
        "obviously the fit isnt as good here (or rather, the fit is better but is overfitting, as we know), but this demonstrates how to generalize the approach!"
      ]
    },
    {
      "cell_type": "code",
      "metadata": {
        "id": "n2PYAjQhiUcU",
        "colab_type": "code",
        "colab": {}
      },
      "source": [
        ""
      ],
      "execution_count": null,
      "outputs": []
    }
  ]
}
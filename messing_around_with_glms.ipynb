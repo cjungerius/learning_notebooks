{
 "cells": [
  {
   "cell_type": "markdown",
   "metadata": {},
   "source": [
    "# Messing Around with GLMs"
   ]
  },
  {
   "cell_type": "markdown",
   "metadata": {},
   "source": [
    "Revisiting what I learned about GLM (and ANOVA) by playing with some simulated data.\n",
    "Also serves as some light coding practice (~~function mapping~~! list comprehensions! formatted strings!)\n",
    "\n",
    "first we import some things:"
   ]
  },
  {
   "cell_type": "code",
   "execution_count": 11,
   "metadata": {},
   "outputs": [],
   "source": [
    "import numpy as np\n",
    "import random\n",
    "import matplotlib.pyplot as plt\n",
    "from numpy.linalg import inv\n",
    "import scipy.stats as stats\n",
    "\n",
    "%matplotlib inline"
   ]
  },
  {
   "cell_type": "markdown",
   "metadata": {},
   "source": [
    "Then here we have all the functions we use in the scripts below (I like to define them all in one place)."
   ]
  },
  {
   "cell_type": "code",
   "execution_count": 12,
   "metadata": {},
   "outputs": [],
   "source": [
    "def gen_sample(size, mu, sigma=10):\n",
    "    '''returns a sample drawn from a population with stdev sigma and mean mu'''\n",
    "    x = sigma*np.random.randn(size)+mu\n",
    "    return(x)\n",
    "\n",
    "\n",
    "def gen_samples(groups, factors, sigma):\n",
    "    '''returns multiple samples (from groups with different means) \n",
    "    not really necessary, could just do the list comprehension in the code below instead, but I'm lazy '''\n",
    "    result = [gen_sample(x, y, sigma) for (x, y) in zip(groups, factors)]\n",
    "    return(list(result))\n",
    "\n",
    "\n",
    "def x_from_group(dim, n, group):\n",
    "    '''convert group membership into dummy variables (0s and 1s) for use in design matrices'''\n",
    "    x = np.zeros(dim)\n",
    "    x[n] = 1\n",
    "    x = np.tile(x, (group, 1))\n",
    "    return(x)\n",
    "\n",
    "\n",
    "def design_from_samples(groups, y):\n",
    "    '''create a design matrix for all samples based on group membership'''\n",
    "    X = [x_from_group(groups.size, n, group) for n, group in enumerate(groups)]\n",
    "    X = np.vstack((X))\n",
    "    X[:,0] = 1 #NOTE: the first group = the intercept, so we don't need to encode it! turns that row into all 1s\n",
    "    return(X)\n",
    "\n",
    "\n",
    "def est_beta(X,y):\n",
    "    '''calculate predictor beta (with some beautiful linear algebra, imo)'''\n",
    "    b = inv(X.T @ X) @ X.T @ y\n",
    "    return b\n",
    "\n",
    "\n",
    "def calc_sigma_hat(y, y_hat, p):\n",
    "    '''does what it says on the tin. (p is the number of predictors estimated by our model)'''\n",
    "    sigma_hat = np.sum((y-y_hat)**2)/(y.size-p)\n",
    "    return sigma_hat\n",
    "\n",
    "\n",
    "def calc_mse(y, y_hat):\n",
    "    '''does what it says on the tin'''\n",
    "    squared_error = (y-y_hat)**2\n",
    "    mse = np.mean(squared_error)\n",
    "    return mse\n",
    "\n",
    "\n",
    "def calc_r2(y, y_hat):\n",
    "    '''does what it says on the tin'''\n",
    "    numerator = np.sum((y - y_hat) ** 2)  # remember, y_hat equals X * beta\n",
    "    denominator = np.sum((y - np.mean(y)) ** 2)\n",
    "    r_squared = 1 - numerator / denominator\n",
    "    return r_squared\n",
    "\n",
    "\n",
    "def calc_f(r2, n, p):\n",
    "    '''does what it says on the tin'''\n",
    "    f = r2*(n-p)/((1-r2)*(p-1))\n",
    "    return(f)"
   ]
  },
  {
   "cell_type": "markdown",
   "metadata": {},
   "source": [
    "The function below comes from [the UvA's NI-edu course on GLM](https://github.com/Neuroimaging-UvA/NI-edu), cause I can't be bothered to write my own (and it's nicely generally applicable for both tests on single $\\beta$s and contrasts $c$:"
   ]
  },
  {
   "cell_type": "code",
   "execution_count": 13,
   "metadata": {},
   "outputs": [],
   "source": [
    "def design_variance(X, which_predictor=1):\n",
    "    ''' Returns the design variance of a predictor (or contrast) in X.\n",
    "    \n",
    "    Parameters\n",
    "    ----------\n",
    "    X : numpy array\n",
    "        Array of shape (N, P)\n",
    "    which_predictor : int or list/array\n",
    "        The index of the predictor you want the design var from.\n",
    "        Note that 0 refers to the intercept!\n",
    "        Alternatively, \"which_predictor\" can be a contrast-vector\n",
    "        \n",
    "    Returns\n",
    "    -------\n",
    "    des_var : float\n",
    "        Design variance of the specified predictor/contrast from X.\n",
    "    '''\n",
    "    \n",
    "    is_single = isinstance(which_predictor, int)\n",
    "    if is_single:\n",
    "        idx = which_predictor\n",
    "    else:\n",
    "        idx = np.array(which_predictor) != 0\n",
    "    \n",
    "    c = np.zeros(X.shape[1])\n",
    "    c[idx] = 1 if is_single == 1 else which_predictor[idx]\n",
    "    des_var = c.dot(np.linalg.inv(X.T.dot(X))).dot(c.T)\n",
    "    return des_var"
   ]
  },
  {
   "cell_type": "markdown",
   "metadata": {},
   "source": [
    "OK, with all that out of the way, let's generate a test sample to make sure our code does what we think it does:"
   ]
  },
  {
   "cell_type": "code",
   "execution_count": 14,
   "metadata": {},
   "outputs": [
    {
     "name": "stdout",
     "output_type": "stream",
     "text": [
      "A sample of n = 20 observations from a population with mu = 5 and sigma = 1: [  9.20629644   3.92532908   5.67753592  -0.57763553   0.46042082\n",
      "  -7.69268896  24.08675297   0.93910494   0.45374007   0.83956444\n",
      "   5.71467225   8.49887637  27.06544212 -13.95822209   1.98873099\n",
      " -12.88209606   1.44239906  -0.5433852   13.89889057  -1.50169174]\n",
      "the mean of our test sample is 3.3521018218682217\n"
     ]
    },
    {
     "data": {
      "text/plain": [
       "<matplotlib.collections.LineCollection at 0x23ec66ba898>"
      ]
     },
     "execution_count": 14,
     "metadata": {},
     "output_type": "execute_result"
    },
    {
     "data": {
      "image/png": "[encoded data removed]",
      "text/plain": [
       "<Figure size 432x288 with 1 Axes>"
      ]
     },
     "metadata": {
      "needs_background": "light"
     },
     "output_type": "display_data"
    }
   ],
   "source": [
    "n = 20\n",
    "mu = 5\n",
    "sigma = 1\n",
    "test_pop = gen_sample(n,mu)\n",
    "test_string = f\"A sample of n = {n} observations from a population with mu = {mu} and sigma = {sigma}: {test_pop}\"\n",
    "print(test_string)\n",
    "print(f\"the mean of our test sample is {test_pop.mean()}\")\n",
    "plt.scatter(range(n),test_pop)\n",
    "plt.hlines(5,xmin=0,xmax=20)"
   ]
  },
  {
   "cell_type": "markdown",
   "metadata": {},
   "source": [
    "That seems to work! Now how about some samples from different populations with a different $\\mu$? Note that $\\sigma$ is the same between groups! (*homoscedasticity*!)"
   ]
  },
  {
   "cell_type": "code",
   "execution_count": 15,
   "metadata": {},
   "outputs": [
    {
     "name": "stdout",
     "output_type": "stream",
     "text": [
      "the means of the generated samples are [1.403815963832669, 3.473774091673021, 4.855772532082191, 6.479904364796404]\n",
      "the overall mean of the sample is 4.053316738096072\n"
     ]
    }
   ],
   "source": [
    "groups = np.array([20, 20, 20, 20])\n",
    "factors = np.array([1, 3, 5, 7])\n",
    "sigma = 2\n",
    "samples = gen_samples(groups, factors,sigma)\n",
    "print(f\"the means of the generated samples are {[sample.mean() for sample in samples]}\")\n",
    "sample_array = np.hstack((samples))\n",
    "\n",
    "#let's stick the samples together as a series of observations\n",
    "print(f\"the overall mean of the sample is {sample_array.mean()}\")"
   ]
  },
  {
   "cell_type": "markdown",
   "metadata": {},
   "source": [
    "The group means seem to match up with the factors ($\\mu$) we defined. A GLM with group membership as predictors (encoded as dummy variables) should find these group means as beta values!"
   ]
  },
  {
   "cell_type": "code",
   "execution_count": 16,
   "metadata": {},
   "outputs": [
    {
     "name": "stdout",
     "output_type": "stream",
     "text": [
      "true population means are [1 3 5 7]\n",
      "\n",
      "betas are [1.40381596 2.06995813 3.45195657 5.0760884 ]\n",
      "\n",
      "standard error of the model is 4.302310141802823\n",
      "\n",
      "design variances for the betas are [0.05 0.1  0.1  0.1 ]\n",
      "\n",
      "t-values of the betas are [3.02673443 3.15580895 5.26277091 7.73888369]\n",
      "\n",
      "the model's MSE is 4.087194634712683 and the model's r2 is 0.45930795399978763\n",
      "\n",
      "the F statistic of our model is 21.520200985762948\n"
     ]
    },
    {
     "data": {
      "image/png": "[encoded data removed]",
      "text/plain": [
       "<Figure size 432x288 with 1 Axes>"
      ]
     },
     "metadata": {
      "needs_background": "light"
     },
     "output_type": "display_data"
    }
   ],
   "source": [
    "# now we build a group model (BASICALLY an ANOVA)\n",
    "y = sample_array\n",
    "X = design_from_samples(groups,y)\n",
    "X_lin = np.zeros([y.size,2])\n",
    "b = est_beta(X,y)\n",
    "y_hat = X @ b\n",
    "plt.plot(y_hat)\n",
    "\n",
    "#(or a simple a + xb linear model!)\n",
    "X_lin[:,0] = 1\n",
    "X_lin[:,1] = np.arange(y.size)\n",
    "b_lin = est_beta(X_lin, y)\n",
    "y_hat_lin = X_lin @ b_lin\n",
    "#plt.plot(y_hat_lin)\n",
    "\n",
    "\n",
    "plt.scatter(range(y.size),y,color='orange')\n",
    "\n",
    "#this is where we do the hypothesis tests on our group model\n",
    "sigma_hat = calc_sigma_hat(y, y_hat, b.size)\n",
    "des_var = np.array([design_variance(X, n) for n, _ in enumerate(b)])\n",
    "mse = calc_mse(y, y_hat)\n",
    "r2 = calc_r2(y, y_hat)\n",
    "t = b/np.sqrt(sigma_hat*des_var)\n",
    "glm_f = calc_f(r2, y.size, 4)\n",
    "print(f\"true population means are {factors}\\n\")\n",
    "print(f\"betas are {b}\\n\")\n",
    "print(f\"standard error of the model is {sigma_hat}\\n\")\n",
    "print(f\"design variances for the betas are {des_var}\\n\")\n",
    "print(f\"t-values of the betas are {t}\\n\")\n",
    "print(f\"the model's MSE is {mse} and the model's r2 is {r2}\\n\")\n",
    "print(f\"the F statistic of our model is {glm_f}\")\n",
    "\n",
    "#working with contrasts to compare betas/groups:\n",
    "#c = np.array([0, 1, -1, 0])\n",
    "#print(c.dot(b)/np.sqrt(sigma_hat*design_variance(X,c)))"
   ]
  },
  {
   "cell_type": "markdown",
   "metadata": {},
   "source": [
    "Sure enough, the betas (plus the intercept) are exactly equivalent to each of the group means. Their t-values are all nice and big, and the F statistic confirms that we are at the very least right in designing our model with something other than a single mean as predictor.\n",
    "\n",
    "As a fun aside - from the shape of the data, we can expect a simple linear model with an intercept and 1 predictor to also perform decently! (left as an exercise to the reader)"
   ]
  },
  {
   "cell_type": "markdown",
   "metadata": {},
   "source": [
    "Since ANOVA is just a form of glm with dummy variables (which is exactly what we did here!), the F statistic of our group model and an ANOVA package should be exactly identical \n",
    "(allowing for floating point errors). Let's check whether that is indeed the case, as a sanity check (and because seeing is believing)"
   ]
  },
  {
   "cell_type": "code",
   "execution_count": 17,
   "metadata": {},
   "outputs": [
    {
     "name": "stdout",
     "output_type": "stream",
     "text": [
      "the f statistic of our samples found by one-way anova is 21.52020098576293, which corresponds to a p-value of 3.436853069748418e-10\n",
      "the f statistic of our model and the f statistic found by scipy are identical!\n"
     ]
    }
   ],
   "source": [
    "\n",
    "\n",
    "anova_f = stats.f_oneway(samples[0], samples[1], samples[2], samples[3])\n",
    "print(f\"the f statistic of our samples found by one-way anova is {anova_f.statistic}, \\\n",
    "which corresponds to a p-value of {anova_f.pvalue}\")\n",
    "\n",
    "if glm_f - anova_f.statistic < 0.0000001:\n",
    "    print(\"the f statistic of our model and the f statistic found by scipy are identical!\")\n",
    "    \n",
    "#this nicely shows that a glm f test tests THE SAME THING as the f test in a one-way anova: they're equivalent!\n",
    "#"
   ]
  },
  {
   "cell_type": "markdown",
   "metadata": {},
   "source": [
    "It works!"
   ]
  },
  {
   "cell_type": "code",
   "execution_count": 18,
   "metadata": {},
   "outputs": [],
   "source": [
    "#tbc"
   ]
  }
 ],
 "metadata": {
  "kernelspec": {
   "display_name": "Python 3",
   "language": "python",
   "name": "python3"
  },
  "language_info": {
   "codemirror_mode": {
    "name": "ipython",
    "version": 3
   },
   "file_extension": ".py",
   "mimetype": "text/x-python",
   "name": "python",
   "nbconvert_exporter": "python",
   "pygments_lexer": "ipython3",
   "version": "3.7.6"
  }
 },
 "nbformat": 4,
 "nbformat_minor": 4
}
